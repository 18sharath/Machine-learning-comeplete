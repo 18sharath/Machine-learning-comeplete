{
 "cells": [
  {
   "cell_type": "code",
   "execution_count": 1,
   "metadata": {},
   "outputs": [
    {
     "name": "stdout",
     "output_type": "stream",
     "text": [
      "Valid integer entered: 12\n",
      "Program completed successfully!\n"
     ]
    }
   ],
   "source": [
    "# 2)\n",
    "def get_valid_integer():\n",
    "    \"\"\"\n",
    "    Prompts user for an integer input and validates it.\n",
    "    Returns the integer if valid, raises ValueError if invalid.\n",
    "    \"\"\"\n",
    "    try:\n",
    "        # Get input from user\n",
    "        user_input = input(\"Please enter an integer: \")\n",
    "        \n",
    "        # Try to convert the input to an integer\n",
    "        number = int(user_input)\n",
    "        print(f\"Valid integer entered: {number}\")\n",
    "        return number\n",
    "        \n",
    "    except ValueError:\n",
    "        # Raise ValueError with a custom message if conversion fails\n",
    "        raise ValueError(f\"Error: '{user_input}' is not a valid integer\")\n",
    "\n",
    "# Main program with error handling\n",
    "def main():\n",
    "    while True:\n",
    "        try:\n",
    "            result = get_valid_integer()\n",
    "            # If we get here, we have a valid integer\n",
    "            print(\"Program completed successfully!\")\n",
    "            break\n",
    "            \n",
    "        except ValueError as error:\n",
    "            # Handle the ValueError by printing the error message\n",
    "            print(error)\n",
    "            print(\"Please try again.\\n\")\n",
    "            \n",
    "        except KeyboardInterrupt:\n",
    "            # Handle if user presses Ctrl+C\n",
    "            print(\"\\nProgram terminated by user.\")\n",
    "            break\n",
    "\n",
    "if __name__ == \"__main__\":\n",
    "    main()"
   ]
  },
  {
   "cell_type": "code",
   "execution_count": 4,
   "metadata": {},
   "outputs": [
    {
     "name": "stdout",
     "output_type": "stream",
     "text": [
      "the 1.22 is not an integer\n",
      "plzz try again\n",
      "the number is 12\n",
      "program run successfully\n"
     ]
    }
   ],
   "source": [
    "def get_valid_integer():\n",
    "    try:\n",
    "        value=input('enter a integer value:')\n",
    "        value=int(value)\n",
    "        print(f\"the number is {value}\")\n",
    "    except ValueError:\n",
    "        raise ValueError(f\"the {value} is not an integer\")\n",
    "\n",
    "def main():\n",
    "    while True:\n",
    "        try:\n",
    "            get_valid_integer()\n",
    "            print('program run successfully')\n",
    "            break\n",
    "        except ValueError as error:\n",
    "            print(error)\n",
    "            print('plzz try again')\n",
    "\n",
    "\n",
    "\n",
    "if __name__ == '__main__':\n",
    "    main()"
   ]
  },
  {
   "cell_type": "code",
   "execution_count": null,
   "metadata": {},
   "outputs": [],
   "source": []
  },
  {
   "cell_type": "code",
   "execution_count": 10,
   "metadata": {},
   "outputs": [
    {
     "name": "stdout",
     "output_type": "stream",
     "text": [
      "file not found\n"
     ]
    }
   ],
   "source": [
    "def read_file(file_name):\n",
    "    try:\n",
    "        with open(file_name,'r') as file:\n",
    "            print('file opened')\n",
    "            content=file.read()\n",
    "            print(content)\n",
    "    except FileNotFoundError:\n",
    "        raise FileNotFoundError(\"file not found\")\n",
    "\n",
    "def main():\n",
    "    try:\n",
    "\n",
    "        file_name=input('enter a file name')\n",
    "        read_file(file_name)\n",
    "    except FileNotFoundError as error:\n",
    "        print(error)\n",
    "\n",
    "if __name__== '__main__':\n",
    "    main()"
   ]
  },
  {
   "cell_type": "code",
   "execution_count": 16,
   "metadata": {},
   "outputs": [
    {
     "name": "stdout",
     "output_type": "stream",
     "text": [
      "You entered the numbers: 23.0 and 23.0\n"
     ]
    }
   ],
   "source": [
    "def get_numbers():\n",
    "    \"\"\"\n",
    "    Prompts the user to input two numbers and raises a TypeError if the inputs are not numerical.\n",
    "    \"\"\"\n",
    "    try:\n",
    "        num1 = input(\"Enter the first number: \")\n",
    "        num2 = input(\"Enter the second number: \")\n",
    "        \n",
    "        # Attempt to convert the inputs to float\n",
    "        num1 = float(num1)\n",
    "        num2 = float(num2)\n",
    "        \n",
    "    except ValueError:\n",
    "        # If the conversion fails, raise a TypeError with a custom message\n",
    "        raise TypeError(\"Both inputs must be numerical values.\")\n",
    "    \n",
    "    return num1, num2\n",
    "\n",
    "def main():\n",
    "    try:\n",
    "        number1, number2 = get_numbers()\n",
    "        print(f\"You entered the numbers: {number1} and {number2}\")\n",
    "    except TypeError as e:\n",
    "        print(f\"Error: {e}\")\n",
    "\n",
    "# Entry point of the program\n",
    "if __name__ == \"__main__\":\n",
    "    main()\n"
   ]
  },
  {
   "cell_type": "code",
   "execution_count": 18,
   "metadata": {},
   "outputs": [
    {
     "name": "stdout",
     "output_type": "stream",
     "text": [
      "File not found\n"
     ]
    }
   ],
   "source": [
    "def read_file(file_name):\n",
    "    try:\n",
    "        with open(file_name,'r') as file:\n",
    "            print('file opened')\n",
    "            content=file.read()\n",
    "            print(content)\n",
    "    except PermissionError:\n",
    "        raise PermissionError(\"file not found\")\n",
    "    except FileNotFoundError:\n",
    "        raise FileNotFoundError(\"File not found\")\n",
    "\n",
    "def main():\n",
    "    try:\n",
    "\n",
    "        file_name=input('enter a file name')\n",
    "        read_file(file_name)\n",
    "    except PermissionError as error:\n",
    "        print(error)\n",
    "    except FileNotFoundError as error:\n",
    "        print(error)\n",
    "\n",
    "if __name__== '__main__':\n",
    "    main()"
   ]
  },
  {
   "cell_type": "code",
   "execution_count": 22,
   "metadata": {},
   "outputs": [
    {
     "name": "stdout",
     "output_type": "stream",
     "text": [
      "array out of bound\n"
     ]
    }
   ],
   "source": [
    "import numpy as np\n",
    "def read_file():\n",
    "    try:\n",
    "        arr1=[1,2,3,4]\n",
    "        print(arr1[10])\n",
    "    except IndexError:\n",
    "        raise IndexError(\"array out of bound\")\n",
    "    except FileNotFoundError:\n",
    "        raise FileNotFoundError(\"File not found\")\n",
    "\n",
    "def main():\n",
    "    try:\n",
    "\n",
    "       read_file()\n",
    "    except IndexError as error:\n",
    "        print(error)\n",
    "    except FileNotFoundError as error:\n",
    "        print(error)\n",
    "\n",
    "if __name__== '__main__':\n",
    "    main()"
   ]
  },
  {
   "cell_type": "code",
   "execution_count": 31,
   "metadata": {},
   "outputs": [
    {
     "ename": "TypeError",
     "evalue": "unsupported operand type(s) for /: 'str' and 'str'",
     "output_type": "error",
     "traceback": [
      "\u001b[1;31m---------------------------------------------------------------------------\u001b[0m",
      "\u001b[1;31mTypeError\u001b[0m                                 Traceback (most recent call last)",
      "Cell \u001b[1;32mIn[31], line 32\u001b[0m\n\u001b[0;32m     30\u001b[0m \u001b[38;5;66;03m# Entry point of the program\u001b[39;00m\n\u001b[0;32m     31\u001b[0m \u001b[38;5;28;01mif\u001b[39;00m \u001b[38;5;18m__name__\u001b[39m \u001b[38;5;241m==\u001b[39m \u001b[38;5;124m\"\u001b[39m\u001b[38;5;124m__main__\u001b[39m\u001b[38;5;124m\"\u001b[39m:\n\u001b[1;32m---> 32\u001b[0m     main()\n",
      "Cell \u001b[1;32mIn[31], line 23\u001b[0m, in \u001b[0;36mmain\u001b[1;34m()\u001b[0m\n\u001b[0;32m     21\u001b[0m \u001b[38;5;28;01mdef\u001b[39;00m \u001b[38;5;21mmain\u001b[39m():\n\u001b[0;32m     22\u001b[0m     \u001b[38;5;28;01mtry\u001b[39;00m:\n\u001b[1;32m---> 23\u001b[0m         number1 \u001b[38;5;241m=\u001b[39m get_numbers()\n\u001b[0;32m     24\u001b[0m         \u001b[38;5;28mprint\u001b[39m(\u001b[38;5;124mf\u001b[39m\u001b[38;5;124m\"\u001b[39m\u001b[38;5;124mYou entered the numbers: \u001b[39m\u001b[38;5;132;01m{\u001b[39;00mnumber1\u001b[38;5;132;01m}\u001b[39;00m\u001b[38;5;124m\"\u001b[39m)\n\u001b[0;32m     25\u001b[0m     \u001b[38;5;28;01mexcept\u001b[39;00m \u001b[38;5;167;01mArithmeticError\u001b[39;00m \u001b[38;5;28;01mas\u001b[39;00m e:\n",
      "Cell \u001b[1;32mIn[31], line 12\u001b[0m, in \u001b[0;36mget_numbers\u001b[1;34m()\u001b[0m\n\u001b[0;32m      7\u001b[0m     num2 \u001b[38;5;241m=\u001b[39m \u001b[38;5;28minput\u001b[39m(\u001b[38;5;124m\"\u001b[39m\u001b[38;5;124mEnter the second number: \u001b[39m\u001b[38;5;124m\"\u001b[39m)\n\u001b[0;32m      9\u001b[0m     \u001b[38;5;66;03m# Attempt to convert the inputs to float\u001b[39;00m\n\u001b[0;32m     10\u001b[0m     \u001b[38;5;66;03m# num1=float(num1)\u001b[39;00m\n\u001b[0;32m     11\u001b[0m     \u001b[38;5;66;03m# num2=float(num2)\u001b[39;00m\n\u001b[1;32m---> 12\u001b[0m     result\u001b[38;5;241m=\u001b[39mnum1\u001b[38;5;241m/\u001b[39mnum2\n\u001b[0;32m     14\u001b[0m \u001b[38;5;28;01mexcept\u001b[39;00m \u001b[38;5;167;01mArithmeticError\u001b[39;00m:\n\u001b[0;32m     15\u001b[0m     \u001b[38;5;66;03m# If the conversion fails, raise a TypeError with a custom message\u001b[39;00m\n\u001b[0;32m     16\u001b[0m     \u001b[38;5;28;01mraise\u001b[39;00m \u001b[38;5;167;01mArithmeticError\u001b[39;00m(\u001b[38;5;124m\"\u001b[39m\u001b[38;5;124marithmentic error\u001b[39m\u001b[38;5;124m\"\u001b[39m)\n",
      "\u001b[1;31mTypeError\u001b[0m: unsupported operand type(s) for /: 'str' and 'str'"
     ]
    }
   ],
   "source": [
    "def get_numbers():\n",
    "    \"\"\"\n",
    "    Prompts the user to input two numbers and raises a TypeError if the inputs are not numerical.\n",
    "    \"\"\"\n",
    "    try:\n",
    "        num1 = input(\"Enter the first number: \")\n",
    "        num2 = input(\"Enter the second number: \")\n",
    "        \n",
    "        # Attempt to convert the inputs to float\n",
    "        num1=float(num1)\n",
    "        num2=float(num2)\n",
    "        result=num1/num2\n",
    "        \n",
    "    except ArithmeticError:\n",
    "        # If the conversion fails, raise a TypeError with a custom message\n",
    "        raise ArithmeticError(\"arithmentic error\")\n",
    "    except KeyboardInterrupt:\n",
    "        raise KeyboardInterrupt(\"user interrupt the program\")\n",
    "    return result\n",
    "\n",
    "def main():\n",
    "    try:\n",
    "        number1 = get_numbers()\n",
    "        print(f\"You entered the numbers: {number1}\")\n",
    "    except ArithmeticError as e:\n",
    "        print(f\"Error: {e}\")\n",
    "    except KeyboardInterrupt as e:\n",
    "        print(e)\n",
    "\n",
    "# Entry point of the program\n",
    "if __name__ == \"__main__\":\n",
    "    main()\n"
   ]
  },
  {
   "cell_type": "code",
   "execution_count": 39,
   "metadata": {},
   "outputs": [
    {
     "name": "stdout",
     "output_type": "stream",
     "text": [
      "u entered a negative number\n"
     ]
    }
   ],
   "source": [
    "# user defined exception\n",
    "class negativenumber_user_defined(Exception):\n",
    "    def __init__(self,number,msg=\"u entered a negative number\"):\n",
    "        self.number=number\n",
    "        self.msg=msg\n",
    "        super().__init__(self.msg)\n",
    "\n",
    "def neg():\n",
    "    \n",
    "     number=input(\"enter a number\")\n",
    "     number=int(number)\n",
    "     if number<0:\n",
    "        raise negativenumber_user_defined(number)\n",
    "     \n",
    "     else :\n",
    "        print('number is postive')\n",
    "def main():\n",
    "\n",
    "    try:\n",
    "        neg()\n",
    "    except negativenumber_user_defined as e:\n",
    "        print(e)\n",
    "\n",
    "if __name__=='__main__':\n",
    "    main()\n",
    "\n",
    "\n",
    "\n"
   ]
  },
  {
   "cell_type": "code",
   "execution_count": null,
   "metadata": {},
   "outputs": [],
   "source": []
  }
 ],
 "metadata": {
  "kernelspec": {
   "display_name": "base",
   "language": "python",
   "name": "python3"
  },
  "language_info": {
   "codemirror_mode": {
    "name": "ipython",
    "version": 3
   },
   "file_extension": ".py",
   "mimetype": "text/x-python",
   "name": "python",
   "nbconvert_exporter": "python",
   "pygments_lexer": "ipython3",
   "version": "3.12.7"
  }
 },
 "nbformat": 4,
 "nbformat_minor": 2
}
