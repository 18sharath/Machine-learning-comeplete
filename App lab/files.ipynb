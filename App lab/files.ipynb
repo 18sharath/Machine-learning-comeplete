{
 "cells": [
  {
   "cell_type": "code",
   "execution_count": 1,
   "metadata": {},
   "outputs": [
    {
     "name": "stdout",
     "output_type": "stream",
     "text": [
      "hello\n"
     ]
    }
   ],
   "source": [
    "print('hello')"
   ]
  },
  {
   "cell_type": "code",
   "execution_count": 2,
   "metadata": {},
   "outputs": [
    {
     "name": "stdout",
     "output_type": "stream",
     "text": [
      "hii\n"
     ]
    }
   ],
   "source": [
    "print('hii')"
   ]
  },
  {
   "cell_type": "code",
   "execution_count": null,
   "metadata": {},
   "outputs": [],
   "source": [
    "def copy_without_comments(source_file, destination_file):\n",
    "    try:\n",
    "        with open(source_file, \"r\") as src, open(destination_file, \"w\") as dest:\n",
    "            for line in src:\n",
    "                # Write the line to the destination file only if it's not a comment\n",
    "                stripped_line = line.strip()\n",
    "                if not stripped_line.startswith(\"#\") and stripped_line != \"\":\n",
    "                    dest.write(line)\n",
    "        print(f\"Successfully copied {source_file} to {destination_file} without comments.\")\n",
    "    except FileNotFoundError:\n",
    "        print(f\"Error: {source_file} not found.\")\n",
    "    except Exception as e:\n",
    "        print(f\"An error occurred: {e}\")\n",
    "\n",
    "def main():\n",
    "    source_file = input(\"Enter the source file name (e.g., source.py): \")\n",
    "    destination_file = input(\"Enter the destination file name (e.g., destination.py): \")\n",
    "    copy_without_comments(source_file, destination_file)\n",
    "\n",
    "if __name__ == \"__main__\":\n",
    "    main()\n"
   ]
  },
  {
   "cell_type": "code",
   "execution_count": 1,
   "metadata": {},
   "outputs": [
    {
     "name": "stdout",
     "output_type": "stream",
     "text": [
      "Employee object has been serialized and saved to 'employee_data.pkl'.\n",
      "Loaded Employee object:\n",
      "Employee(Name: John Doe, Age: 30, Salary: 75000, Married: True, Having Kid: True)\n"
     ]
    }
   ],
   "source": [
    "import pickle\n",
    "\n",
    "# Define the Employee class\n",
    "class Employee:\n",
    "    def __init__(self, name, age, salary, married, having_kid):\n",
    "        self.name = name\n",
    "        self.age = age\n",
    "        self.salary = salary\n",
    "        self.married = married\n",
    "        self.having_kid = having_kid\n",
    "\n",
    "    def __str__(self):\n",
    "        return (f\"Employee(Name: {self.name}, Age: {self.age}, Salary: {self.salary}, \"\n",
    "                f\"Married: {self.married}, Having Kid: {self.having_kid})\")\n",
    "\n",
    "# Create an Employee object\n",
    "employee = Employee(\"John Doe\", 30, 75000, True, True)\n",
    "\n",
    "# Serialize the object to a file\n",
    "with open(\"employee_data.pkl\", \"wb\") as file:\n",
    "    pickle.dump(employee, file)\n",
    "print(\"Employee object has been serialized and saved to 'employee_data.pkl'.\")\n",
    "\n",
    "# Deserialize the object from the file\n",
    "with open(\"employee_data.pkl\", \"rb\") as file:\n",
    "    loaded_employee = pickle.load(file)\n",
    "\n",
    "# Display the loaded object\n",
    "print(\"Loaded Employee object:\")\n",
    "print(loaded_employee)\n"
   ]
  },
  {
   "cell_type": "code",
   "execution_count": null,
   "metadata": {},
   "outputs": [],
   "source": [
    "# Program to count upper-case and lower-case alphabets in a file\n",
    "\n",
    "def count_case_in_file(file_name):\n",
    "    try:\n",
    "        with open(file_name, 'r') as file:\n",
    "            text = file.read()\n",
    "\n",
    "        upper_count = sum(1 for char in text if char.isupper())\n",
    "        lower_count = sum(1 for char in text if char.islower())\n",
    "\n",
    "        print(f\"Number of upper-case letters: {upper_count}\")\n",
    "        print(f\"Number of lower-case letters: {lower_count}\")\n",
    "    except FileNotFoundError:\n",
    "        print(f\"Error: The file '{file_name}' does not exist.\")\n",
    "\n",
    "# Specify the file name\n",
    "file_name = \"data.txt\"\n",
    "count_case_in_file(file_name)\n"
   ]
  },
  {
   "cell_type": "code",
   "execution_count": 4,
   "metadata": {},
   "outputs": [
    {
     "name": "stdout",
     "output_type": "stream",
     "text": [
      "htarahs ma i olleh\n",
      "jarivar ma i iiih\n"
     ]
    }
   ],
   "source": [
    "def fun(file_name):\n",
    "    with open(file_name,'r') as file:\n",
    "        lines=file.readlines()\n",
    "\n",
    "    for line in lines:\n",
    "        print(line.strip()[::-1])\n",
    "\n",
    "\n",
    "file_name=\"data.txt\"\n",
    "fun(file_name)"
   ]
  },
  {
   "cell_type": "code",
   "execution_count": 7,
   "metadata": {},
   "outputs": [
    {
     "name": "stdout",
     "output_type": "stream",
     "text": [
      "h and freq is :4\n",
      "e and freq is :1\n",
      "l and freq is :2\n",
      "o and freq is :1\n",
      "spcae() and freq is :6\n",
      "i and freq is :6\n",
      "a and freq is :6\n",
      "m and freq is :2\n",
      "s and freq is :1\n",
      "r and freq is :3\n",
      "t and freq is :1\n",
      "\n",
      " and freq is :1\n",
      "v and freq is :1\n",
      "j and freq is :1\n"
     ]
    }
   ],
   "source": [
    "def fun(file_name):\n",
    "    with open(file_name,'r') as file:\n",
    "        content=file.read()\n",
    "\n",
    "    frequency={}\n",
    "    for char in content:\n",
    "        if char in frequency:\n",
    "            frequency[char]+=1\n",
    "        else:\n",
    "            frequency[char]=1\n",
    "\n",
    "    for char , freq in frequency.items():\n",
    "        if char=='\\n':\n",
    "            chardisplay='new line(\\n)'\n",
    "        if char==' ':\n",
    "            chardisplay='spcae(' ')'\n",
    "        else :\n",
    "            chardisplay=char\n",
    "\n",
    "        print(f\"{chardisplay} and freq is :{freq}\")\n",
    "\n",
    "\n",
    "\n",
    "file_name=\"data.txt\"\n",
    "fun(file_name)"
   ]
  },
  {
   "cell_type": "code",
   "execution_count": null,
   "metadata": {},
   "outputs": [],
   "source": []
  }
 ],
 "metadata": {
  "kernelspec": {
   "display_name": "base",
   "language": "python",
   "name": "python3"
  },
  "language_info": {
   "codemirror_mode": {
    "name": "ipython",
    "version": 3
   },
   "file_extension": ".py",
   "mimetype": "text/x-python",
   "name": "python",
   "nbconvert_exporter": "python",
   "pygments_lexer": "ipython3",
   "version": "3.12.7"
  }
 },
 "nbformat": 4,
 "nbformat_minor": 2
}
