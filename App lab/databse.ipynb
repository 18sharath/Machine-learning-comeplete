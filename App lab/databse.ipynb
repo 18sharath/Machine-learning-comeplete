{
 "cells": [
  {
   "cell_type": "code",
   "execution_count": 15,
   "metadata": {},
   "outputs": [],
   "source": [
    "import sqlite3"
   ]
  },
  {
   "cell_type": "code",
   "execution_count": 16,
   "metadata": {},
   "outputs": [],
   "source": [
    "connection=sqlite3.connect('data.db')"
   ]
  },
  {
   "cell_type": "code",
   "execution_count": 17,
   "metadata": {},
   "outputs": [],
   "source": [
    "c=connection.cursor()"
   ]
  },
  {
   "cell_type": "code",
   "execution_count": 18,
   "metadata": {},
   "outputs": [
    {
     "data": {
      "text/plain": [
       "<sqlite3.Cursor at 0x2721683b5c0>"
      ]
     },
     "execution_count": 18,
     "metadata": {},
     "output_type": "execute_result"
    }
   ],
   "source": [
    "# creating a table\n",
    "c.execute(\"\"\" create table if not exists customer(\n",
    "          id int not null,\n",
    "          name text not null,\n",
    "          age number not null,\n",
    "          adress char(50),\n",
    "          salary real\n",
    "          )\n",
    "\n",
    "\"\"\")"
   ]
  },
  {
   "cell_type": "code",
   "execution_count": 19,
   "metadata": {},
   "outputs": [],
   "source": [
    "connection.commit()"
   ]
  },
  {
   "cell_type": "code",
   "execution_count": 20,
   "metadata": {},
   "outputs": [
    {
     "data": {
      "text/plain": [
       "<sqlite3.Cursor at 0x2721683b5c0>"
      ]
     },
     "execution_count": 20,
     "metadata": {},
     "output_type": "execute_result"
    }
   ],
   "source": [
    "c.execute(\"insert into customer values (1,'Paul',20,'banglore',100000)\")"
   ]
  },
  {
   "cell_type": "code",
   "execution_count": 21,
   "metadata": {},
   "outputs": [],
   "source": [
    "data=[(2,'raviraj',21,'belagavi',900000),\n",
    "(3,'shar',33,'shivamogga',1010)]"
   ]
  },
  {
   "cell_type": "code",
   "execution_count": 30,
   "metadata": {},
   "outputs": [
    {
     "data": {
      "text/plain": [
       "<sqlite3.Cursor at 0x2721683b5c0>"
      ]
     },
     "execution_count": 30,
     "metadata": {},
     "output_type": "execute_result"
    }
   ],
   "source": [
    "c.executemany('insert into customer values(?,?,?,?,?)',data)"
   ]
  },
  {
   "cell_type": "code",
   "execution_count": 23,
   "metadata": {},
   "outputs": [],
   "source": [
    "connection.commit()"
   ]
  },
  {
   "cell_type": "code",
   "execution_count": 31,
   "metadata": {},
   "outputs": [
    {
     "name": "stdout",
     "output_type": "stream",
     "text": [
      "(7, 2, 'raviraj', 21, 'belagavi', 900000.0)\n",
      "(8, 3, 'shar', 33, 'shivamogga', 1010.0)\n",
      "(10, 2, 'raviraj', 21, 'belagavi', 900000.0)\n",
      "(11, 3, 'shar', 33, 'shivamogga', 1010.0)\n",
      "(13, 2, 'raviraj', 21, 'belagavi', 900000.0)\n",
      "(14, 3, 'shar', 33, 'shivamogga', 1010.0)\n",
      "(15, 2, 'raviraj', 21, 'belagavi', 900000.0)\n",
      "(16, 3, 'shar', 33, 'shivamogga', 1010.0)\n",
      "(17, 2, 'raviraj', 21, 'belagavi', 900000.0)\n",
      "(18, 3, 'shar', 33, 'shivamogga', 1010.0)\n"
     ]
    }
   ],
   "source": [
    "c.execute('select rowid, * from customer')\n",
    "result=c.fetchall()\n",
    "for row in result:\n",
    "    print(row)\n",
    "    # print('\\n')"
   ]
  },
  {
   "cell_type": "code",
   "execution_count": 25,
   "metadata": {},
   "outputs": [
    {
     "data": {
      "text/plain": [
       "<sqlite3.Cursor at 0x2721683b5c0>"
      ]
     },
     "execution_count": 25,
     "metadata": {},
     "output_type": "execute_result"
    }
   ],
   "source": [
    "c.execute(''' update customer set salary=111 where id=1\n",
    "''')"
   ]
  },
  {
   "cell_type": "code",
   "execution_count": 26,
   "metadata": {},
   "outputs": [
    {
     "data": {
      "text/plain": [
       "[(2, 'raviraj', 21, 'belagavi', 900000.0),\n",
       " (3, 'shar', 33, 'shivamogga', 1010.0),\n",
       " (2, 'raviraj', 21, 'belagavi', 900000.0),\n",
       " (3, 'shar', 33, 'shivamogga', 1010.0),\n",
       " (1, 'Paul', 20, 'banglore', 111.0),\n",
       " (2, 'raviraj', 21, 'belagavi', 900000.0),\n",
       " (3, 'shar', 33, 'shivamogga', 1010.0)]"
      ]
     },
     "execution_count": 26,
     "metadata": {},
     "output_type": "execute_result"
    }
   ],
   "source": [
    "connection.commit()\n",
    "c.execute(\"select * from customer\")\n",
    "result=c.fetchall()\n",
    "result\n"
   ]
  },
  {
   "cell_type": "code",
   "execution_count": 27,
   "metadata": {},
   "outputs": [
    {
     "name": "stdout",
     "output_type": "stream",
     "text": [
      "None\n"
     ]
    }
   ],
   "source": [
    "c.execute(\"SELECT rowid, * FROM customer WHERE rowid=1\")\n",
    "print(c.fetchone())\n"
   ]
  },
  {
   "cell_type": "code",
   "execution_count": 28,
   "metadata": {},
   "outputs": [
    {
     "data": {
      "text/plain": [
       "[(2, 'raviraj', 21, 'belagavi', 900000.0),\n",
       " (3, 'shar', 33, 'shivamogga', 1010.0),\n",
       " (2, 'raviraj', 21, 'belagavi', 900000.0),\n",
       " (3, 'shar', 33, 'shivamogga', 1010.0),\n",
       " (2, 'raviraj', 21, 'belagavi', 900000.0),\n",
       " (3, 'shar', 33, 'shivamogga', 1010.0)]"
      ]
     },
     "execution_count": 28,
     "metadata": {},
     "output_type": "execute_result"
    }
   ],
   "source": [
    "c.execute(\"delete from customer where id=1\")\n",
    "connection.commit()\n",
    "c.execute(\"select * from customer\")\n",
    "result=c.fetchall()\n",
    "result"
   ]
  },
  {
   "cell_type": "code",
   "execution_count": null,
   "metadata": {},
   "outputs": [],
   "source": []
  },
  {
   "cell_type": "code",
   "execution_count": null,
   "metadata": {},
   "outputs": [],
   "source": []
  }
 ],
 "metadata": {
  "kernelspec": {
   "display_name": "base",
   "language": "python",
   "name": "python3"
  },
  "language_info": {
   "codemirror_mode": {
    "name": "ipython",
    "version": 3
   },
   "file_extension": ".py",
   "mimetype": "text/x-python",
   "name": "python",
   "nbconvert_exporter": "python",
   "pygments_lexer": "ipython3",
   "version": "3.12.7"
  }
 },
 "nbformat": 4,
 "nbformat_minor": 2
}
